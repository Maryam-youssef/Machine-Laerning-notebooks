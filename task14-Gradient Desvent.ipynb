{
  "nbformat": 4,
  "nbformat_minor": 0,
  "metadata": {
    "colab": {
      "provenance": [],
      "authorship_tag": "ABX9TyOxN7xHhEwR+TJigUHBvZ9I",
      "include_colab_link": true
    },
    "kernelspec": {
      "name": "python3",
      "display_name": "Python 3"
    },
    "language_info": {
      "name": "python"
    }
  },
  "cells": [
    {
      "cell_type": "markdown",
      "metadata": {
        "id": "view-in-github",
        "colab_type": "text"
      },
      "source": [
        "<a href=\"https://colab.research.google.com/github/Maryam-youssef/Machine-Laerning-notebooks/blob/main/task14-Gradient%20Desvent.ipynb\" target=\"_parent\"><img src=\"https://colab.research.google.com/assets/colab-badge.svg\" alt=\"Open In Colab\"/></a>"
      ]
    },
    {
      "cell_type": "code",
      "execution_count": null,
      "metadata": {
        "colab": {
          "base_uri": "https://localhost:8080/"
        },
        "id": "6uXSKxonXF2X",
        "outputId": "8b4d8ead-7680-4eb4-ac76-308c56aaaa15"
      },
      "outputs": [
        {
          "output_type": "stream",
          "name": "stdout",
          "text": [
            "Optimized theta_0: 0.09475321533750963\n",
            "Optimized theta_1: 1.9737548787242036\n"
          ]
        }
      ],
      "source": [
        "import numpy as np\n",
        "\n",
        "#data\n",
        "x = np.array([1, 2, 3, 4, 5])\n",
        "y = np.array([2, 4, 6, 8, 10])\n",
        "\n",
        "# Initialize parameters\n",
        "theta_0 = 0\n",
        "theta_1 = 0\n",
        "\n",
        "# Learning rate\n",
        "alpha = 0.01\n",
        "\n",
        "# Number of iterations\n",
        "num_iterations = 1000\n",
        "\n",
        "# Number of data points\n",
        "m = len(y)\n",
        "\n",
        "# Gradient Descent\n",
        "for _ in range(num_iterations):\n",
        "    # Hypothesis\n",
        "    h = theta_0 + theta_1 * x\n",
        "\n",
        "    # Compute gradients\n",
        "    gradient_0 = (1/m) * np.sum(h - y)\n",
        "    gradient_1 = (1/m) * np.sum((h - y) * x)\n",
        "\n",
        "    # Update parameters\n",
        "    theta_0 -= alpha * gradient_0\n",
        "    theta_1 -= alpha * gradient_1\n",
        "\n",
        "print(f\"theta_0: {theta_0}\")\n",
        "print(f\"theta_1: {theta_1}\")\n"
      ]
    }
  ]
}